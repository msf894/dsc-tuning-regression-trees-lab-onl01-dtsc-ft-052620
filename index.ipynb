{
 "cells": [
  {
   "cell_type": "markdown",
   "metadata": {},
   "source": [
    "# Regression Trees and Model Optimization - Lab\n",
    "\n",
    "## Introduction\n",
    "\n",
    "In this lab, we'll see how to apply regression analysis using CART trees while making use of some hyperparameter tuning to improve our model. \n",
    "\n",
    "## Objectives\n",
    "\n",
    "In this lab you will: \n",
    "\n",
    "- Perform the full process of cleaning data, tuning hyperparameters, creating visualizations, and evaluating decision tree models \n",
    "- Determine the optimal hyperparameters for a decision tree model and evaluate the performance of decision tree models"
   ]
  },
  {
   "cell_type": "markdown",
   "metadata": {},
   "source": [
    "## Boston Housing dataset - again! \n",
    "\n",
    "The dataset is available in the file `'boston.csv'`. \n",
    "\n",
    "- Import the dataset and print its `.head()` and dimensions: "
   ]
  },
  {
   "cell_type": "code",
   "execution_count": 7,
   "metadata": {
    "ExecuteTime": {
     "end_time": "2020-08-17T00:27:25.418995Z",
     "start_time": "2020-08-17T00:27:25.381104Z"
    }
   },
   "outputs": [
    {
     "data": {
      "text/html": [
       "<div>\n",
       "<style scoped>\n",
       "    .dataframe tbody tr th:only-of-type {\n",
       "        vertical-align: middle;\n",
       "    }\n",
       "\n",
       "    .dataframe tbody tr th {\n",
       "        vertical-align: top;\n",
       "    }\n",
       "\n",
       "    .dataframe thead th {\n",
       "        text-align: right;\n",
       "    }\n",
       "</style>\n",
       "<table border=\"1\" class=\"dataframe\">\n",
       "  <thead>\n",
       "    <tr style=\"text-align: right;\">\n",
       "      <th></th>\n",
       "      <th>Unnamed: 0</th>\n",
       "      <th>crim</th>\n",
       "      <th>zn</th>\n",
       "      <th>indus</th>\n",
       "      <th>chas</th>\n",
       "      <th>nox</th>\n",
       "      <th>rm</th>\n",
       "      <th>age</th>\n",
       "      <th>dis</th>\n",
       "      <th>rad</th>\n",
       "      <th>tax</th>\n",
       "      <th>ptratio</th>\n",
       "      <th>black</th>\n",
       "      <th>lstat</th>\n",
       "      <th>medv</th>\n",
       "    </tr>\n",
       "  </thead>\n",
       "  <tbody>\n",
       "    <tr>\n",
       "      <th>0</th>\n",
       "      <td>1</td>\n",
       "      <td>0.00632</td>\n",
       "      <td>18.0</td>\n",
       "      <td>2.31</td>\n",
       "      <td>0</td>\n",
       "      <td>0.538</td>\n",
       "      <td>6.575</td>\n",
       "      <td>65.2</td>\n",
       "      <td>4.0900</td>\n",
       "      <td>1</td>\n",
       "      <td>296</td>\n",
       "      <td>15.3</td>\n",
       "      <td>396.90</td>\n",
       "      <td>4.98</td>\n",
       "      <td>24.0</td>\n",
       "    </tr>\n",
       "    <tr>\n",
       "      <th>1</th>\n",
       "      <td>2</td>\n",
       "      <td>0.02731</td>\n",
       "      <td>0.0</td>\n",
       "      <td>7.07</td>\n",
       "      <td>0</td>\n",
       "      <td>0.469</td>\n",
       "      <td>6.421</td>\n",
       "      <td>78.9</td>\n",
       "      <td>4.9671</td>\n",
       "      <td>2</td>\n",
       "      <td>242</td>\n",
       "      <td>17.8</td>\n",
       "      <td>396.90</td>\n",
       "      <td>9.14</td>\n",
       "      <td>21.6</td>\n",
       "    </tr>\n",
       "    <tr>\n",
       "      <th>2</th>\n",
       "      <td>3</td>\n",
       "      <td>0.02729</td>\n",
       "      <td>0.0</td>\n",
       "      <td>7.07</td>\n",
       "      <td>0</td>\n",
       "      <td>0.469</td>\n",
       "      <td>7.185</td>\n",
       "      <td>61.1</td>\n",
       "      <td>4.9671</td>\n",
       "      <td>2</td>\n",
       "      <td>242</td>\n",
       "      <td>17.8</td>\n",
       "      <td>392.83</td>\n",
       "      <td>4.03</td>\n",
       "      <td>34.7</td>\n",
       "    </tr>\n",
       "    <tr>\n",
       "      <th>3</th>\n",
       "      <td>4</td>\n",
       "      <td>0.03237</td>\n",
       "      <td>0.0</td>\n",
       "      <td>2.18</td>\n",
       "      <td>0</td>\n",
       "      <td>0.458</td>\n",
       "      <td>6.998</td>\n",
       "      <td>45.8</td>\n",
       "      <td>6.0622</td>\n",
       "      <td>3</td>\n",
       "      <td>222</td>\n",
       "      <td>18.7</td>\n",
       "      <td>394.63</td>\n",
       "      <td>2.94</td>\n",
       "      <td>33.4</td>\n",
       "    </tr>\n",
       "    <tr>\n",
       "      <th>4</th>\n",
       "      <td>5</td>\n",
       "      <td>0.06905</td>\n",
       "      <td>0.0</td>\n",
       "      <td>2.18</td>\n",
       "      <td>0</td>\n",
       "      <td>0.458</td>\n",
       "      <td>7.147</td>\n",
       "      <td>54.2</td>\n",
       "      <td>6.0622</td>\n",
       "      <td>3</td>\n",
       "      <td>222</td>\n",
       "      <td>18.7</td>\n",
       "      <td>396.90</td>\n",
       "      <td>5.33</td>\n",
       "      <td>36.2</td>\n",
       "    </tr>\n",
       "  </tbody>\n",
       "</table>\n",
       "</div>"
      ],
      "text/plain": [
       "   Unnamed: 0     crim    zn  indus  chas    nox     rm   age     dis  rad  \\\n",
       "0           1  0.00632  18.0   2.31     0  0.538  6.575  65.2  4.0900    1   \n",
       "1           2  0.02731   0.0   7.07     0  0.469  6.421  78.9  4.9671    2   \n",
       "2           3  0.02729   0.0   7.07     0  0.469  7.185  61.1  4.9671    2   \n",
       "3           4  0.03237   0.0   2.18     0  0.458  6.998  45.8  6.0622    3   \n",
       "4           5  0.06905   0.0   2.18     0  0.458  7.147  54.2  6.0622    3   \n",
       "\n",
       "   tax  ptratio   black  lstat  medv  \n",
       "0  296     15.3  396.90   4.98  24.0  \n",
       "1  242     17.8  396.90   9.14  21.6  \n",
       "2  242     17.8  392.83   4.03  34.7  \n",
       "3  222     18.7  394.63   2.94  33.4  \n",
       "4  222     18.7  396.90   5.33  36.2  "
      ]
     },
     "execution_count": 7,
     "metadata": {},
     "output_type": "execute_result"
    }
   ],
   "source": [
    "# Import necessary libraries\n",
    "import numpy as np\n",
    "import pandas as pd\n",
    "import matplotlib.pyplot as plt\n",
    "plt.style.use('ggplot')\n",
    "%matplotlib inline\n",
    "\n",
    "# Load the Boston housing dataset \n",
    "data = pd.read_csv('boston.csv') \n",
    "\n",
    "# Print the first five rows \n",
    "data.head()\n"
   ]
  },
  {
   "cell_type": "code",
   "execution_count": null,
   "metadata": {},
   "outputs": [],
   "source": [
    "# Print the dimensions of data\n",
    "print(data.shape)"
   ]
  },
  {
   "cell_type": "markdown",
   "metadata": {},
   "source": [
    "## Identify features and target data \n",
    "\n",
    "In this lab, we will use three features from the Boston housing dataset: `'RM'`, `'LSTAT'`, and `'PTRATIO'`: \n",
    "\n",
    "#### Features\n",
    "- `'RM'` is the average number of rooms among homes in the neighborhood \n",
    "- `'LSTAT'` is the percentage of homeowners in the neighborhood considered \"lower class\" (working poor) \n",
    "- `'PTRATIO'` is the ratio of students to teachers in primary and secondary schools in the neighborhood \n",
    "\n",
    "#### Target\n",
    "- `MEDV`',the median value of the home "
   ]
  },
  {
   "cell_type": "markdown",
   "metadata": {},
   "source": [
    "- Create DataFrames for the features and the target variable as shown above \n",
    "- Inspect the contents for validity "
   ]
  },
  {
   "cell_type": "code",
   "execution_count": 9,
   "metadata": {
    "ExecuteTime": {
     "end_time": "2020-08-17T00:28:21.702442Z",
     "start_time": "2020-08-17T00:28:21.696429Z"
    }
   },
   "outputs": [],
   "source": [
    "# Features and target data\n",
    "target = data['medv']\n",
    "features = data[['rm','lstat','ptratio']]\n"
   ]
  },
  {
   "cell_type": "markdown",
   "metadata": {},
   "source": [
    "## Inspect correlations \n",
    "\n",
    "- Use scatter plots to show the correlation between the chosen features and the target variable\n",
    "- Comment on each scatter plot "
   ]
  },
  {
   "cell_type": "code",
   "execution_count": 10,
   "metadata": {
    "ExecuteTime": {
     "end_time": "2020-08-17T00:30:12.485802Z",
     "start_time": "2020-08-17T00:30:11.870417Z"
    }
   },
   "outputs": [
    {
     "data": {
      "image/png": "[encoded data removed]",
      "text/plain": [
       "<Figure size 1440x360 with 3 Axes>"
      ]
     },
     "metadata": {
      "needs_background": "light"
     },
     "output_type": "display_data"
    }
   ],
   "source": [
    "# Your code here \n",
    "\n",
    "import matplotlib.pyplot as plt\n",
    "\n",
    "plt.figure(figsize=(20, 5))\n",
    "for i, col in enumerate(features.columns):\n",
    "    plt.subplot(1, 3, i+1)\n",
    "    plt.plot(data[col], target, 'o')\n",
    "    plt.title(col)\n",
    "    plt.xlabel(col)\n",
    "    plt.ylabel('Prices')\n",
    "    plt.tight_layout()"
   ]
  },
  {
   "cell_type": "markdown",
   "metadata": {},
   "source": [
    "## Create evaluation metrics\n",
    "\n",
    "- Import `r2_score` and `mean_squared_error` from `sklearn.metrics` \n",
    "- Create a function `performance(true, predicted)` to calculate and return the r-squared score and MSE for two equal-sized arrays for the given true and predicted values "
   ]
  },
  {
   "cell_type": "code",
   "execution_count": 12,
   "metadata": {
    "ExecuteTime": {
     "end_time": "2020-08-17T00:33:33.765751Z",
     "start_time": "2020-08-17T00:33:33.756777Z"
    }
   },
   "outputs": [
    {
     "name": "stdout",
     "output_type": "stream",
     "text": [
      "R2 Score:  0.9228556485355649\n",
      "MSE:  0.4719999999999998\n"
     ]
    }
   ],
   "source": [
    "# Import metrics\n",
    "from sklearn.metrics import r2_score,mean_squared_error\n",
    "\n",
    "# Define the function\n",
    "def performance(y_true, y_predict):\n",
    "    \"\"\" Calculates and returns the performance score between \n",
    "        true and predicted values based on the metric chosen. \"\"\"\n",
    "    \n",
    "    # Calculate the r2 score between 'y_true' and 'y_predict'\n",
    "    score = r2_score(y_true,y_predict)\n",
    "    print('R2 Score: ', score)\n",
    "    # Calculate the mean squared error between 'y_true' and 'y_predict'\n",
    "    mse = mean_squared_error(y_true,y_predict)\n",
    "    print('MSE: ', mse)\n",
    "    # Return the score\n",
    "\n",
    "\n",
    "# Test the function\n",
    "score = performance([3, -0.5, 2, 7, 4.2], [2.5, 0.0, 2.1, 7.8, 5.3])\n",
    "score\n",
    "\n",
    "# [0.9228556485355649, 0.4719999999999998]"
   ]
  },
  {
   "cell_type": "markdown",
   "metadata": {},
   "source": [
    "## Split the data into training and test sets\n",
    "\n",
    "- Split `features` and `target` datasets into training/test data (80/20) \n",
    "- For reproducibility, use `random_state=42`"
   ]
  },
  {
   "cell_type": "code",
   "execution_count": 14,
   "metadata": {
    "ExecuteTime": {
     "end_time": "2020-08-17T00:34:19.168351Z",
     "start_time": "2020-08-17T00:34:19.162364Z"
    }
   },
   "outputs": [],
   "source": [
    "from sklearn.model_selection import train_test_split \n",
    "\n",
    "# Split the data into training and test subsets\n",
    "x_train, x_test, y_train, y_test = train_test_split(features,target, test_size = 0.2, random_state = 42)"
   ]
  },
  {
   "cell_type": "markdown",
   "metadata": {},
   "source": [
    "## Grow a vanilla regression tree\n",
    "\n",
    "- Import the `DecisionTreeRegressor` class\n",
    "- Run a baseline model for later comparison using the datasets created above\n",
    "- Generate predictions for test dataset and calculate the performance measures using the function created above \n",
    "- Use `random_state=45` for tree instance\n",
    "- Record your observations"
   ]
  },
  {
   "cell_type": "code",
   "execution_count": 15,
   "metadata": {
    "ExecuteTime": {
     "end_time": "2020-08-17T00:35:02.001143Z",
     "start_time": "2020-08-17T00:35:01.765725Z"
    }
   },
   "outputs": [
    {
     "name": "stdout",
     "output_type": "stream",
     "text": [
      "R2 Score:  0.47097115950374013\n",
      "MSE:  38.795686274509805\n"
     ]
    }
   ],
   "source": [
    "# Import DecisionTreeRegressor\n",
    "from sklearn.tree import DecisionTreeRegressor\n",
    "\n",
    "# Instantiate DecisionTreeRegressor \n",
    "regressor = DecisionTreeRegressor(random_state=45)\n",
    "\n",
    "# Fit the model to training data\n",
    "regressor.fit(x_train, y_train)\n",
    "\n",
    "# Make predictions on the test data\n",
    "y_pred = regressor.predict(x_test)\n",
    "\n",
    "# Calculate performance using the performance() function \n",
    "score = performance(y_test, y_pred)\n",
    "\n",
    "# [0.47097115950374013, 38.795686274509805]  - R2, MSE"
   ]
  },
  {
   "cell_type": "markdown",
   "metadata": {},
   "source": [
    "## Hyperparameter tuning (I)\n",
    "\n",
    "- Find the best tree depth using depth range: 1-30\n",
    "- Run the regressor repeatedly in a `for` loop for each depth value  \n",
    "- Use `random_state=45` for reproducibility\n",
    "- Calculate MSE and r-squared for each run \n",
    "- Plot both performance measures for all runs \n",
    "- Comment on the output "
   ]
  },
  {
   "cell_type": "code",
   "execution_count": 18,
   "metadata": {
    "ExecuteTime": {
     "end_time": "2020-08-17T00:42:57.804761Z",
     "start_time": "2020-08-17T00:42:57.675108Z"
    }
   },
   "outputs": [
    {
     "name": "stdout",
     "output_type": "stream",
     "text": [
      "Tree Depth:  1\n",
      "R2 Score:  0.3602156982888397\n",
      "MSE:  46.91780325106487\n",
      "========================\n",
      "Tree Depth:  2\n",
      "R2 Score:  0.645549571073612\n",
      "MSE:  25.9931908959712\n",
      "========================\n",
      "Tree Depth:  3\n",
      "R2 Score:  0.6679219352208099\n",
      "MSE:  24.35254079481681\n",
      "========================\n",
      "Tree Depth:  4\n",
      "R2 Score:  0.7226546855127474\n",
      "MSE:  20.338781153139767\n",
      "========================\n",
      "Tree Depth:  5\n",
      "R2 Score:  0.746527856459061\n",
      "MSE:  18.588071211613478\n",
      "========================\n",
      "Tree Depth:  6\n",
      "R2 Score:  0.7515894043185498\n",
      "MSE:  18.216888758430127\n",
      "========================\n",
      "Tree Depth:  7\n",
      "R2 Score:  0.6263488910856303\n",
      "MSE:  27.401249398740603\n",
      "========================\n",
      "Tree Depth:  8\n",
      "R2 Score:  0.6555843678227183\n",
      "MSE:  25.257301287114323\n",
      "========================\n",
      "Tree Depth:  9\n",
      "R2 Score:  0.6240595926464088\n",
      "MSE:  27.56913231407174\n",
      "========================\n",
      "Tree Depth:  10\n",
      "R2 Score:  0.6113026664935214\n",
      "MSE:  28.50464597035984\n",
      "========================\n",
      "Tree Depth:  11\n",
      "R2 Score:  0.6134488068311303\n",
      "MSE:  28.347261380210004\n",
      "========================\n",
      "Tree Depth:  12\n",
      "R2 Score:  0.6098721144721015\n",
      "MSE:  28.609553762098198\n",
      "========================\n",
      "Tree Depth:  13\n",
      "R2 Score:  0.49127115931037457\n",
      "MSE:  37.307010490535475\n",
      "========================\n",
      "Tree Depth:  14\n",
      "R2 Score:  0.48288911786867383\n",
      "MSE:  37.921697300062\n",
      "========================\n",
      "Tree Depth:  15\n",
      "R2 Score:  0.4820091115502495\n",
      "MSE:  37.986231492597035\n",
      "========================\n",
      "Tree Depth:  16\n",
      "R2 Score:  0.6295779113752684\n",
      "MSE:  27.164453124999998\n",
      "========================\n",
      "Tree Depth:  17\n",
      "R2 Score:  0.607716443497591\n",
      "MSE:  28.767637269907965\n",
      "========================\n",
      "Tree Depth:  18\n",
      "R2 Score:  0.6145826523275844\n",
      "MSE:  28.264112200435733\n",
      "========================\n",
      "Tree Depth:  19\n",
      "R2 Score:  0.49596201928159167\n",
      "MSE:  36.963011982570805\n",
      "========================\n",
      "Tree Depth:  20\n",
      "R2 Score:  0.48396272419845177\n",
      "MSE:  37.84296568627451\n",
      "========================\n",
      "Tree Depth:  21\n",
      "R2 Score:  0.47097115950374013\n",
      "MSE:  38.795686274509805\n",
      "========================\n",
      "Tree Depth:  22\n",
      "R2 Score:  0.47097115950374013\n",
      "MSE:  38.795686274509805\n",
      "========================\n",
      "Tree Depth:  23\n",
      "R2 Score:  0.47097115950374013\n",
      "MSE:  38.795686274509805\n",
      "========================\n",
      "Tree Depth:  24\n",
      "R2 Score:  0.47097115950374013\n",
      "MSE:  38.795686274509805\n",
      "========================\n",
      "Tree Depth:  25\n",
      "R2 Score:  0.47097115950374013\n",
      "MSE:  38.795686274509805\n",
      "========================\n",
      "Tree Depth:  26\n",
      "R2 Score:  0.47097115950374013\n",
      "MSE:  38.795686274509805\n",
      "========================\n",
      "Tree Depth:  27\n",
      "R2 Score:  0.47097115950374013\n",
      "MSE:  38.795686274509805\n",
      "========================\n",
      "Tree Depth:  28\n",
      "R2 Score:  0.47097115950374013\n",
      "MSE:  38.795686274509805\n",
      "========================\n",
      "Tree Depth:  29\n",
      "R2 Score:  0.47097115950374013\n",
      "MSE:  38.795686274509805\n",
      "========================\n",
      "Tree Depth:  30\n",
      "R2 Score:  0.47097115950374013\n",
      "MSE:  38.795686274509805\n",
      "========================\n"
     ]
    }
   ],
   "source": [
    "# Your code here \n",
    "\n",
    "for i in range(1,31):\n",
    "    print('Tree Depth: ',i)\n",
    "    # Instantiate DecisionTreeRegressor \n",
    "    regressor = DecisionTreeRegressor(max_depth = i, random_state=45)\n",
    "\n",
    "    # Fit the model to training data\n",
    "    regressor.fit(x_train, y_train)\n",
    "\n",
    "    # Make predictions on the test data\n",
    "    y_pred = regressor.predict(x_test)\n",
    "\n",
    "    # Calculate performance using the performance() function \n",
    "    score = performance(y_test, y_pred)\n",
    "    print(\"========================\")"
   ]
  },
  {
   "cell_type": "markdown",
   "metadata": {},
   "source": [
    "## Hyperparameter tuning (II)\n",
    "\n",
    "- Repeat the above process for `min_samples_split` \n",
    "- Use a range of values from 2-10 for this hyperparameter \n",
    "- Use `random_state=45` for reproducibility\n",
    "- Visualize the output and comment on results as above "
   ]
  },
  {
   "cell_type": "code",
   "execution_count": 19,
   "metadata": {
    "ExecuteTime": {
     "end_time": "2020-08-17T00:44:40.691353Z",
     "start_time": "2020-08-17T00:44:40.644482Z"
    }
   },
   "outputs": [
    {
     "name": "stdout",
     "output_type": "stream",
     "text": [
      "Min Sample Splits:  2\n",
      "R2 Score:  0.47097115950374013\n",
      "MSE:  38.795686274509805\n",
      "========================\n",
      "Min Sample Splits:  3\n",
      "R2 Score:  0.4803952327124762\n",
      "MSE:  38.104583333333345\n",
      "========================\n",
      "Min Sample Splits:  4\n",
      "R2 Score:  0.5247289625517133\n",
      "MSE:  34.85342320261439\n",
      "========================\n",
      "Min Sample Splits:  5\n",
      "R2 Score:  0.6473458760458828\n",
      "MSE:  25.86146105664488\n",
      "========================\n",
      "Min Sample Splits:  6\n",
      "R2 Score:  0.6439721500825788\n",
      "MSE:  26.108869144880178\n",
      "========================\n",
      "Min Sample Splits:  7\n",
      "R2 Score:  0.6449886749672344\n",
      "MSE:  26.03432352941177\n",
      "========================\n",
      "Min Sample Splits:  8\n",
      "R2 Score:  0.6403227207405336\n",
      "MSE:  26.37649560490863\n",
      "========================\n",
      "Min Sample Splits:  9\n",
      "R2 Score:  0.64204832172797\n",
      "MSE:  26.24995075627473\n",
      "========================\n",
      "Min Sample Splits:  10\n",
      "R2 Score:  0.5191660060438964\n",
      "MSE:  35.26137584888894\n",
      "========================\n"
     ]
    }
   ],
   "source": [
    "# Your code here \n",
    "\n",
    "for i in range(2,11):\n",
    "    print('Min Sample Splits: ',i)\n",
    "    # Instantiate DecisionTreeRegressor \n",
    "    regressor = DecisionTreeRegressor(min_samples_split = i, random_state=45)\n",
    "\n",
    "    # Fit the model to training data\n",
    "    regressor.fit(x_train, y_train)\n",
    "\n",
    "    # Make predictions on the test data\n",
    "    y_pred = regressor.predict(x_test)\n",
    "\n",
    "    # Calculate performance using the performance() function \n",
    "    score = performance(y_test, y_pred)\n",
    "    print(\"========================\")"
   ]
  },
  {
   "cell_type": "markdown",
   "metadata": {},
   "source": [
    "# Run the *optimized* model \n",
    "\n",
    "- Use the best values for `max_depth` and `min_samples_split` found in previous runs and run an optimized model with these values \n",
    "- Calculate the performance and comment on the output "
   ]
  },
  {
   "cell_type": "code",
   "execution_count": 21,
   "metadata": {
    "ExecuteTime": {
     "end_time": "2020-08-17T00:49:27.103920Z",
     "start_time": "2020-08-17T00:49:27.093941Z"
    }
   },
   "outputs": [
    {
     "name": "stdout",
     "output_type": "stream",
     "text": [
      "R2 Score:  0.7515894043185498\n",
      "MSE:  18.216888758430127\n"
     ]
    }
   ],
   "source": [
    "# Your code here \n",
    "regressor = DecisionTreeRegressor(min_samples_split = 5, max_depth = 6, random_state=45)\n",
    "\n",
    "# Fit the model to training data\n",
    "regressor.fit(x_train, y_train)\n",
    "\n",
    "# Make predictions on the test data\n",
    "y_pred = regressor.predict(x_test)\n",
    "\n",
    "# Calculate performance using the performance() function \n",
    "score = performance(y_test, y_pred)\n"
   ]
  },
  {
   "cell_type": "markdown",
   "metadata": {},
   "source": [
    "## Level up (Optional)\n",
    "\n",
    "- How about bringing in some more features from the original dataset which may be good predictors?\n",
    "- Also, try tuning more hyperparameters like max-features to find a more optimal version of the model "
   ]
  },
  {
   "cell_type": "markdown",
   "metadata": {},
   "source": [
    "## Summary \n",
    "\n",
    "In this lab, we looked at applying a decision-tree-based regression analysis on the Boston Housing dataset. We saw how to train various models to find the optimal values for hyperparameters. "
   ]
  }
 ],
 "metadata": {
  "kernelspec": {
   "display_name": "Python 3",
   "language": "python",
   "name": "python3"
  },
  "language_info": {
   "codemirror_mode": {
    "name": "ipython",
    "version": 3
   },
   "file_extension": ".py",
   "mimetype": "text/x-python",
   "name": "python",
   "nbconvert_exporter": "python",
   "pygments_lexer": "ipython3",
   "version": "3.7.6"
  },
  "toc": {
   "base_numbering": 1,
   "nav_menu": {},
   "number_sections": true,
   "sideBar": true,
   "skip_h1_title": false,
   "title_cell": "Table of Contents",
   "title_sidebar": "Contents",
   "toc_cell": false,
   "toc_position": {},
   "toc_section_display": true,
   "toc_window_display": false
  },
  "varInspector": {
   "cols": {
    "lenName": 16,
    "lenType": 16,
    "lenVar": 40
   },
   "kernels_config": {
    "python": {
     "delete_cmd_postfix": "",
     "delete_cmd_prefix": "del ",
     "library": "var_list.py",
     "varRefreshCmd": "print(var_dic_list())"
    },
    "r": {
     "delete_cmd_postfix": ") ",
     "delete_cmd_prefix": "rm(",
     "library": "var_list.r",
     "varRefreshCmd": "cat(var_dic_list()) "
    }
   },
   "types_to_exclude": [
    "module",
    "function",
    "builtin_function_or_method",
    "instance",
    "_Feature"
   ],
   "window_display": false
  }
 },
 "nbformat": 4,
 "nbformat_minor": 2
}
